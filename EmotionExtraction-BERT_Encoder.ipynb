{
 "cells": [
  {
   "cell_type": "code",
   "execution_count": 38,
   "id": "3cf078cc-aa5a-487e-8eea-73418403c98a",
   "metadata": {},
   "outputs": [],
   "source": [
    "import tensorflow as tf\n",
    "from tensorflow.keras.preprocessing.text import Tokenizer\n",
    "from tensorflow.keras.preprocessing.sequence import pad_sequences\n",
    "from tensorflow.keras.models import Sequential\n",
    "from tensorflow.keras.layers import Dense, Embedding, LSTM, SpatialDropout1D, Input\n",
    "from sklearn.model_selection import train_test_split\n",
    "from tensorflow.keras.callbacks import EarlyStopping\n",
    "import tensorflow_datasets as tfds\n",
    "\n",
    "import pandas as pd\n",
    "import re\n",
    "\n",
    "import keras_nlp\n",
    "import numpy as np\n",
    "\n",
    "from tqdm import tqdm \n",
    "\n",
    "AUTO = tf.data.AUTOTUNE"
   ]
  },
  {
   "cell_type": "code",
   "execution_count": 3,
   "id": "7a5bc9f5-9bce-48f4-bbef-a3065e1fb396",
   "metadata": {},
   "outputs": [
    {
     "data": {
      "text/plain": [
       "'2.15.0'"
      ]
     },
     "execution_count": 3,
     "metadata": {},
     "output_type": "execute_result"
    }
   ],
   "source": [
    "tf.__version__"
   ]
  },
  {
   "cell_type": "code",
   "execution_count": 4,
   "id": "9662cda7-5383-4fe5-bac4-90214f8e2a51",
   "metadata": {},
   "outputs": [
    {
     "data": {
      "text/plain": [
       "[PhysicalDevice(name='/physical_device:CPU:0', device_type='CPU'),\n",
       " PhysicalDevice(name='/physical_device:GPU:0', device_type='GPU'),\n",
       " PhysicalDevice(name='/physical_device:GPU:1', device_type='GPU')]"
      ]
     },
     "execution_count": 4,
     "metadata": {},
     "output_type": "execute_result"
    }
   ],
   "source": [
    "tf.config.list_physical_devices()"
   ]
  },
  {
   "cell_type": "code",
   "execution_count": 5,
   "id": "bf458c1b-1680-49c4-ae2d-48c1508e4165",
   "metadata": {},
   "outputs": [
    {
     "name": "stdout",
     "output_type": "stream",
     "text": [
      "INFO:tensorflow:Using MirroredStrategy with devices ('/job:localhost/replica:0/task:0/device:GPU:0', '/job:localhost/replica:0/task:0/device:GPU:1')\n"
     ]
    },
    {
     "name": "stderr",
     "output_type": "stream",
     "text": [
      "2024-04-12 23:12:01.359641: I tensorflow/core/common_runtime/gpu/gpu_device.cc:1929] Created device /job:localhost/replica:0/task:0/device:GPU:0 with 22495 MB memory:  -> device: 0, name: NVIDIA RTX A5000, pci bus id: 0000:65:00.0, compute capability: 8.6\n",
      "2024-04-12 23:12:01.360168: I tensorflow/core/common_runtime/gpu/gpu_device.cc:1929] Created device /job:localhost/replica:0/task:0/device:GPU:1 with 22418 MB memory:  -> device: 1, name: NVIDIA RTX A5000, pci bus id: 0000:b3:00.0, compute capability: 8.6\n"
     ]
    }
   ],
   "source": [
    "strategy = tf.distribute.MirroredStrategy()"
   ]
  },
  {
   "cell_type": "code",
   "execution_count": 6,
   "id": "67d4d666-f6d4-4e41-928c-7e1c593a17c3",
   "metadata": {},
   "outputs": [
    {
     "name": "stderr",
     "output_type": "stream",
     "text": [
      "[nltk_data] Downloading package stopwords to\n",
      "[nltk_data]     /opt/userdata/22BCE2700/nltk_data...\n",
      "[nltk_data]   Package stopwords is already up-to-date!\n"
     ]
    }
   ],
   "source": [
    "import nltk\n",
    "nltk.download('stopwords')\n",
    "from nltk.corpus import stopwords\n",
    "from nltk import word_tokenize\n",
    "STOPWORDS = set(stopwords.words('english'))"
   ]
  },
  {
   "cell_type": "code",
   "execution_count": 7,
   "id": "4dd1d483-1557-4459-9add-0b7dd8b1f350",
   "metadata": {},
   "outputs": [],
   "source": [
    "import os"
   ]
  },
  {
   "cell_type": "code",
   "execution_count": 8,
   "id": "9f65c92e-1f24-4138-ac3e-70d65dda6457",
   "metadata": {},
   "outputs": [
    {
     "data": {
      "text/plain": [
       "['data',\n",
       " '.ipynb_checkpoints',\n",
       " 'EmotionExtraction-BERT_Encoder.ipynb',\n",
       " 'EmotionExtraction-LightWeight_Encoder.ipynb',\n",
       " 'checkpoints',\n",
       " 'logs']"
      ]
     },
     "execution_count": 8,
     "metadata": {},
     "output_type": "execute_result"
    }
   ],
   "source": [
    "os.listdir('./')"
   ]
  },
  {
   "cell_type": "code",
   "execution_count": 9,
   "id": "b97f8b90-a35d-44ea-8604-f342b138b469",
   "metadata": {},
   "outputs": [],
   "source": [
    "df1 = pd.read_csv('./data/goemotions1.csv')\n",
    "df2 = pd.read_csv('./data/goemotions2.csv')\n",
    "df3 = pd.read_csv('./data/goemotions3.csv')"
   ]
  },
  {
   "cell_type": "code",
   "execution_count": 10,
   "id": "5e74ce99-ce84-4966-b347-b290e88bc36b",
   "metadata": {},
   "outputs": [
    {
     "data": {
      "text/plain": [
       "['text',\n",
       " 'id',\n",
       " 'author',\n",
       " 'subreddit',\n",
       " 'link_id',\n",
       " 'parent_id',\n",
       " 'created_utc',\n",
       " 'rater_id',\n",
       " 'example_very_unclear',\n",
       " 'admiration',\n",
       " 'amusement',\n",
       " 'anger',\n",
       " 'annoyance',\n",
       " 'approval',\n",
       " 'caring',\n",
       " 'confusion',\n",
       " 'curiosity',\n",
       " 'desire',\n",
       " 'disappointment',\n",
       " 'disapproval',\n",
       " 'disgust',\n",
       " 'embarrassment',\n",
       " 'excitement',\n",
       " 'fear',\n",
       " 'gratitude',\n",
       " 'grief',\n",
       " 'joy',\n",
       " 'love',\n",
       " 'nervousness',\n",
       " 'optimism',\n",
       " 'pride',\n",
       " 'realization',\n",
       " 'relief',\n",
       " 'remorse',\n",
       " 'sadness',\n",
       " 'surprise',\n",
       " 'neutral']"
      ]
     },
     "execution_count": 10,
     "metadata": {},
     "output_type": "execute_result"
    }
   ],
   "source": [
    "list(df1.columns)"
   ]
  },
  {
   "cell_type": "code",
   "execution_count": 11,
   "id": "4894c3e0-165b-473a-9fdb-283bf4be2234",
   "metadata": {},
   "outputs": [],
   "source": [
    "df1 = df1.loc[ : , ['text', 'admiration',\n",
    " 'amusement',\n",
    " 'anger',\n",
    " 'annoyance',\n",
    " 'approval',\n",
    " 'caring',\n",
    " 'confusion',\n",
    " 'curiosity',\n",
    " 'desire',\n",
    " 'disappointment',\n",
    " 'disapproval',\n",
    " 'disgust',\n",
    " 'embarrassment',\n",
    " 'excitement',\n",
    " 'fear',\n",
    " 'gratitude',\n",
    " 'grief',\n",
    " 'joy',\n",
    " 'love',\n",
    " 'nervousness',\n",
    " 'optimism',\n",
    " 'pride',\n",
    " 'realization',\n",
    " 'relief',\n",
    " 'remorse',\n",
    " 'sadness',\n",
    " 'surprise',\n",
    " 'neutral']]"
   ]
  },
  {
   "cell_type": "code",
   "execution_count": 12,
   "id": "d02c45c7-51f7-43bd-8e9f-f4f90c430e99",
   "metadata": {},
   "outputs": [],
   "source": [
    "df2 = df2.loc[ : , ['text', 'admiration',\n",
    " 'amusement',\n",
    " 'anger',\n",
    " 'annoyance',\n",
    " 'approval',\n",
    " 'caring',\n",
    " 'confusion',\n",
    " 'curiosity',\n",
    " 'desire',\n",
    " 'disappointment',\n",
    " 'disapproval',\n",
    " 'disgust',\n",
    " 'embarrassment',\n",
    " 'excitement',\n",
    " 'fear',\n",
    " 'gratitude',\n",
    " 'grief',\n",
    " 'joy',\n",
    " 'love',\n",
    " 'nervousness',\n",
    " 'optimism',\n",
    " 'pride',\n",
    " 'realization',\n",
    " 'relief',\n",
    " 'remorse',\n",
    " 'sadness',\n",
    " 'surprise',\n",
    " 'neutral']]"
   ]
  },
  {
   "cell_type": "code",
   "execution_count": 13,
   "id": "de8ffde6-ef62-4cbf-845b-388a74e06fc3",
   "metadata": {},
   "outputs": [],
   "source": [
    "df3 = df3.loc[ : , ['text', 'admiration',\n",
    " 'amusement',\n",
    " 'anger',\n",
    " 'annoyance',\n",
    " 'approval',\n",
    " 'caring',\n",
    " 'confusion',\n",
    " 'curiosity',\n",
    " 'desire',\n",
    " 'disappointment',\n",
    " 'disapproval',\n",
    " 'disgust',\n",
    " 'embarrassment',\n",
    " 'excitement',\n",
    " 'fear',\n",
    " 'gratitude',\n",
    " 'grief',\n",
    " 'joy',\n",
    " 'love',\n",
    " 'nervousness',\n",
    " 'optimism',\n",
    " 'pride',\n",
    " 'realization',\n",
    " 'relief',\n",
    " 'remorse',\n",
    " 'sadness',\n",
    " 'surprise',\n",
    " 'neutral']]"
   ]
  },
  {
   "cell_type": "code",
   "execution_count": 14,
   "id": "e64a53b6-795d-48e9-8c6c-76fbfb83b9ea",
   "metadata": {},
   "outputs": [
    {
     "data": {
      "text/plain": [
       "(70000, 29)"
      ]
     },
     "execution_count": 14,
     "metadata": {},
     "output_type": "execute_result"
    }
   ],
   "source": [
    "df1.shape"
   ]
  },
  {
   "cell_type": "code",
   "execution_count": 15,
   "id": "ec9320f0-1c2c-4569-aa3f-0b9d76798694",
   "metadata": {},
   "outputs": [],
   "source": [
    "total_df = pd.concat([df1, df2, df3])"
   ]
  },
  {
   "cell_type": "code",
   "execution_count": 16,
   "id": "0c48f437-05b5-490f-9740-833c3d72f560",
   "metadata": {},
   "outputs": [
    {
     "data": {
      "text/plain": [
       "(211225, 29)"
      ]
     },
     "execution_count": 16,
     "metadata": {},
     "output_type": "execute_result"
    }
   ],
   "source": [
    "total_df.shape"
   ]
  },
  {
   "cell_type": "code",
   "execution_count": 17,
   "id": "0d249604-dab5-45b9-a461-6629b0cf2183",
   "metadata": {},
   "outputs": [],
   "source": [
    "total_df = total_df.dropna()"
   ]
  },
  {
   "cell_type": "code",
   "execution_count": 18,
   "id": "8a865da4-21a3-48bb-85bc-3a385b952950",
   "metadata": {},
   "outputs": [
    {
     "data": {
      "text/plain": [
       "(211225, 29)"
      ]
     },
     "execution_count": 18,
     "metadata": {},
     "output_type": "execute_result"
    }
   ],
   "source": [
    "total_df.shape"
   ]
  },
  {
   "cell_type": "code",
   "execution_count": 19,
   "id": "934929f9-4337-4f58-8fb4-c923e35b8710",
   "metadata": {},
   "outputs": [],
   "source": [
    "REPLACE_BY_SPACE_RE = re.compile('[/(){}\\[\\]\\|@,;]')\n",
    "BAD_SYMBOLS_RE = re.compile('[^0-9a-z #+_]')\n",
    "STOPWORDS = set(stopwords.words('english'))\n",
    "\n",
    "def clean_text(text):\n",
    "    text = text.lower() # lowercase text\n",
    "    text = REPLACE_BY_SPACE_RE.sub(' ', text) # replace REPLACE_BY_SPACE_RE symbols by space in text. substitute the matched string in REPLACE_BY_SPACE_RE with space.\n",
    "    text = BAD_SYMBOLS_RE.sub('', text) # remove symbols which are in BAD_SYMBOLS_RE from text. substitute the matched string in BAD_SYMBOLS_RE with nothing. \n",
    "    text = ' '.join(word for word in text.split() if word not in STOPWORDS) # remove stopwors from text\n",
    "    return text"
   ]
  },
  {
   "cell_type": "code",
   "execution_count": 20,
   "id": "f059091c-209e-462b-818a-e0481b546e3c",
   "metadata": {},
   "outputs": [
    {
     "data": {
      "text/plain": [
       "10    I have, and now that you mention it, I think t...\n",
       "11    I wanted to downvote this, but it's not your f...\n",
       "12                                BUT IT'S HER TURN! /s\n",
       "13                                         That is odd.\n",
       "14                                    Build a wall? /jk\n",
       "15    I appreciate it, that's good to know. I hope I...\n",
       "Name: text, dtype: object"
      ]
     },
     "execution_count": 20,
     "metadata": {},
     "output_type": "execute_result"
    }
   ],
   "source": [
    "total_df['text'][10:16]"
   ]
  },
  {
   "cell_type": "code",
   "execution_count": 21,
   "id": "ca1abc4a-ab34-4649-9b79-944356caccc9",
   "metadata": {},
   "outputs": [],
   "source": [
    "total_df['text'] = total_df['text'].apply(clean_text)\n",
    "total_df['text'] = total_df['text'].str.replace('\\d+', '')"
   ]
  },
  {
   "cell_type": "code",
   "execution_count": 22,
   "id": "ec49787f-7923-474c-965d-f98993cdfced",
   "metadata": {},
   "outputs": [
    {
     "data": {
      "text/plain": [
       "10              mention think thats triggered nostalgia\n",
       "11                          wanted downvote fault homie\n",
       "12                                                 turn\n",
       "13                                                  odd\n",
       "14                                        build wall jk\n",
       "15    appreciate thats good know hope ill apply know...\n",
       "Name: text, dtype: object"
      ]
     },
     "execution_count": 22,
     "metadata": {},
     "output_type": "execute_result"
    }
   ],
   "source": [
    "total_df['text'][10:16]"
   ]
  },
  {
   "cell_type": "code",
   "execution_count": 23,
   "id": "676f8d37-0600-436e-8426-6da0f3a0ae78",
   "metadata": {},
   "outputs": [
    {
     "name": "stdout",
     "output_type": "stream",
     "text": [
      "Found 32388 unique tokens.\n"
     ]
    }
   ],
   "source": [
    "MAX_NB_WORDS = 50000\n",
    "\n",
    "MAX_SEQUENCE_LENGTH = 250\n",
    "\n",
    "EMBEDDING_DIM = 100\n",
    "\n",
    "tokenizer = Tokenizer(num_words=MAX_NB_WORDS, filters='!\"#$%&()*+,-./:;<=>?@[\\]^_`{|}~', lower=True)\n",
    "tokenizer.fit_on_texts(total_df['text'].values)\n",
    "word_index = tokenizer.word_index\n",
    "print('Found %s unique tokens.' % len(word_index))"
   ]
  },
  {
   "cell_type": "code",
   "execution_count": 24,
   "id": "b841a6a7-c1c0-4231-b41e-165dcfd6c817",
   "metadata": {},
   "outputs": [
    {
     "name": "stdout",
     "output_type": "stream",
     "text": [
      "Shape of data tensor: (211225, 250)\n"
     ]
    }
   ],
   "source": [
    "X = tokenizer.texts_to_sequences(total_df['text'].values)\n",
    "X = pad_sequences(X, maxlen=MAX_SEQUENCE_LENGTH)\n",
    "print('Shape of data tensor:', X.shape)"
   ]
  },
  {
   "cell_type": "code",
   "execution_count": 25,
   "id": "879980b3-6cf9-4635-948f-ae813442c212",
   "metadata": {},
   "outputs": [
    {
     "data": {
      "text/plain": [
       "Index(['text', 'admiration', 'amusement', 'anger', 'annoyance', 'approval',\n",
       "       'caring', 'confusion', 'curiosity', 'desire', 'disappointment',\n",
       "       'disapproval', 'disgust', 'embarrassment', 'excitement', 'fear',\n",
       "       'gratitude', 'grief', 'joy', 'love', 'nervousness', 'optimism', 'pride',\n",
       "       'realization', 'relief', 'remorse', 'sadness', 'surprise', 'neutral'],\n",
       "      dtype='object')"
      ]
     },
     "execution_count": 25,
     "metadata": {},
     "output_type": "execute_result"
    }
   ],
   "source": [
    "total_df.columns"
   ]
  },
  {
   "cell_type": "code",
   "execution_count": 26,
   "id": "dd992272-9f57-4a40-aaef-b9d6908b301b",
   "metadata": {},
   "outputs": [
    {
     "name": "stdout",
     "output_type": "stream",
     "text": [
      "Shape of label tensor: (211225, 28)\n"
     ]
    }
   ],
   "source": [
    "Y = total_df.loc[ : , ['admiration', 'amusement', 'anger', 'annoyance', 'approval',\n",
    "       'caring', 'confusion', 'curiosity', 'desire', 'disappointment',\n",
    "       'disapproval', 'disgust', 'embarrassment', 'excitement', 'fear',\n",
    "       'gratitude', 'grief', 'joy', 'love', 'nervousness', 'optimism', 'pride',\n",
    "       'realization', 'relief', 'remorse', 'sadness', 'surprise', 'neutral']].astype(np.float32).values\n",
    "print('Shape of label tensor:', Y.shape)"
   ]
  },
  {
   "cell_type": "code",
   "execution_count": 27,
   "id": "4cba18ea-ecee-4c56-9635-87bd3f2db1e1",
   "metadata": {},
   "outputs": [
    {
     "name": "stdout",
     "output_type": "stream",
     "text": [
      "(190102,) (190102, 28)\n",
      "(21123,) (21123, 28)\n"
     ]
    }
   ],
   "source": [
    "X_train, X_test, Y_train, Y_test = train_test_split(total_df['text'],Y, test_size = 0.10, random_state = 42)\n",
    "print(X_train.shape,Y_train.shape)\n",
    "print(X_test.shape,Y_test.shape)"
   ]
  },
  {
   "cell_type": "code",
   "execution_count": 28,
   "id": "2025916f-c20e-41e8-abef-2a1a8e05a759",
   "metadata": {},
   "outputs": [
    {
     "data": {
      "text/plain": [
       "0    game hurt\n",
       "Name: text, dtype: object"
      ]
     },
     "execution_count": 28,
     "metadata": {},
     "output_type": "execute_result"
    }
   ],
   "source": [
    "total_df['text'][:1]"
   ]
  },
  {
   "cell_type": "code",
   "execution_count": 29,
   "id": "ac2e3d19-c9b5-41e4-a9a6-d8ec15e83e92",
   "metadata": {},
   "outputs": [
    {
     "data": {
      "text/plain": [
       "array([[0., 0., 0., 0., 0., 0., 0., 0., 0., 0., 0., 0., 0., 0., 0., 0.,\n",
       "        0., 0., 0., 0., 0., 0., 0., 0., 0., 1., 0., 0.]], dtype=float32)"
      ]
     },
     "execution_count": 29,
     "metadata": {},
     "output_type": "execute_result"
    }
   ],
   "source": [
    "Y[:1]"
   ]
  },
  {
   "cell_type": "code",
   "execution_count": 42,
   "id": "f4348536-6678-4a10-b5e9-2e3e5543f477",
   "metadata": {},
   "outputs": [],
   "source": [
    "import urllib.request\n",
    "emotions = urllib.request.urlopen(\n",
    "   'https://raw.githubusercontent.com/google-research/google-research'\n",
    "   '/master/goemotions/data/emotions.txt').read().decode('utf8').split('\\n')"
   ]
  },
  {
   "cell_type": "code",
   "execution_count": 43,
   "id": "eecb034e-d196-4c94-9b7d-4fdd0bad55fa",
   "metadata": {},
   "outputs": [],
   "source": [
    "def preprocess_dataset(split, batch_size=128):\n",
    " def one_hot_encode(x):\n",
    "   vec = tf.stack([x[emotion] for emotion in emotions], 0)\n",
    "   return x['comment_text'], tf.cast(vec, tf.uint8)\n",
    "     \n",
    " ds = tfds.load('goemotions', split=split)\n",
    " ds = ds.map(one_hot_encode, num_parallel_calls=tf.data.AUTOTUNE)\n",
    " ds = ds.shuffle(buffer_size=batch_size * 10)\n",
    " ds = ds.batch(batch_size, drop_remainder=False)\n",
    " ds = ds.prefetch(buffer_size=tf.data.AUTOTUNE)\n",
    "\n",
    " return ds\n",
    "    \n",
    "ds_splits = ['train', 'test', 'validation']\n",
    "datasets = {split: preprocess_dataset(split) for split in ds_splits}"
   ]
  },
  {
   "cell_type": "code",
   "execution_count": 65,
   "id": "093c1ba3-4f92-49fe-b680-9d2b05ac1b59",
   "metadata": {},
   "outputs": [],
   "source": [
    "with strategy.scope():\n",
    "    preprocessor = keras_nlp.models.DistilBertPreprocessor.from_preset(\n",
    "        \"distil_bert_base_en_uncased\",\n",
    "        sequence_length=256,\n",
    "    )\n",
    "    encoder = keras_nlp.models.DistilBertBackbone.from_preset(\n",
    "        \"distil_bert_base_en_uncased\"\n",
    "    )\n",
    "    encoder.trainable = True"
   ]
  },
  {
   "cell_type": "code",
   "execution_count": 66,
   "id": "b9a4f7a1-1d4f-4107-b6dc-6e2e796e6f3d",
   "metadata": {},
   "outputs": [],
   "source": [
    "with strategy.scope():\n",
    "    txt = tf.keras.layers.Input(shape=(), dtype=tf.string)\n",
    "    x = preprocessor(txt)\n",
    "    x = encoder(x)\n",
    "    x = tf.keras.layers.GlobalAveragePooling1D()(x)\n",
    "    x = tf.keras.layers.Dropout(0.1)(x)\n",
    "    x = tf.keras.layers.Dense(Y_train.shape[1], activation='softmax')(x)\n",
    "    model = tf.keras.Model(inputs=[txt], outputs=x)"
   ]
  },
  {
   "cell_type": "code",
   "execution_count": 56,
   "id": "0f5c85d8-1677-44b7-82ff-5149163cbca8",
   "metadata": {},
   "outputs": [],
   "source": [
    "with strategy.scope():\n",
    "    optimizer = tf.keras.optimizers.Adam(learning_rate=1e-4)\n",
    "    metrics = [tf.keras.metrics.CategoricalAccuracy('accuracy', dtype=tf.float32)]\n",
    "    loss = tf.keras.losses.CategoricalCrossentropy(from_logits=False)\n",
    "    model.compile(optimizer, loss, metrics=metrics)"
   ]
  },
  {
   "cell_type": "code",
   "execution_count": 57,
   "id": "a8fa0ff1-4ff7-43c4-96cb-7f0dce0df896",
   "metadata": {},
   "outputs": [],
   "source": [
    "BATCH_SIZE = 128\n",
    "EPOCHS = 5\n",
    "with strategy.scope():\n",
    "    model_checkpoint_callback = tf.keras.callbacks.ModelCheckpoint(\n",
    "        filepath='./checkpoints/DistilBERT',\n",
    "        save_weights_only=True,\n",
    "        monitor='val_loss',\n",
    "        mode='min',\n",
    "        save_best_only=True)\n",
    "    tensorboard_callback = tf.keras.callbacks.TensorBoard(log_dir='./logs/DistilBERT')"
   ]
  },
  {
   "cell_type": "code",
   "execution_count": 58,
   "id": "b89143b9-864d-49f6-be0b-fbc8e7240326",
   "metadata": {},
   "outputs": [
    {
     "name": "stderr",
     "output_type": "stream",
     "text": [
      "2024-04-12 23:17:35.310764: W tensorflow/core/grappler/optimizers/data/auto_shard.cc:553] The `assert_cardinality` transformation is currently not handled by the auto-shard rewrite and will be removed.\n"
     ]
    },
    {
     "name": "stdout",
     "output_type": "stream",
     "text": [
      "Epoch 1/5\n",
      "INFO:tensorflow:Collective all_reduce tensors: 101 all_reduces, num_devices = 2, group_size = 2, implementation = CommunicationImplementation.NCCL, num_packs = 1\n"
     ]
    },
    {
     "name": "stderr",
     "output_type": "stream",
     "text": [
      "INFO:tensorflow:Collective all_reduce tensors: 101 all_reduces, num_devices = 2, group_size = 2, implementation = CommunicationImplementation.NCCL, num_packs = 1\n"
     ]
    },
    {
     "name": "stdout",
     "output_type": "stream",
     "text": [
      "INFO:tensorflow:Collective all_reduce IndexedSlices: 1 all_reduces, num_devices =2, group_size = 2, implementation = CommunicationImplementation.NCCL\n"
     ]
    },
    {
     "name": "stderr",
     "output_type": "stream",
     "text": [
      "INFO:tensorflow:Collective all_reduce IndexedSlices: 1 all_reduces, num_devices =2, group_size = 2, implementation = CommunicationImplementation.NCCL\n"
     ]
    },
    {
     "name": "stdout",
     "output_type": "stream",
     "text": [
      "INFO:tensorflow:Collective all_reduce tensors: 101 all_reduces, num_devices = 2, group_size = 2, implementation = CommunicationImplementation.NCCL, num_packs = 1\n"
     ]
    },
    {
     "name": "stderr",
     "output_type": "stream",
     "text": [
      "INFO:tensorflow:Collective all_reduce tensors: 101 all_reduces, num_devices = 2, group_size = 2, implementation = CommunicationImplementation.NCCL, num_packs = 1\n"
     ]
    },
    {
     "name": "stdout",
     "output_type": "stream",
     "text": [
      "INFO:tensorflow:Collective all_reduce IndexedSlices: 1 all_reduces, num_devices =2, group_size = 2, implementation = CommunicationImplementation.NCCL\n"
     ]
    },
    {
     "name": "stderr",
     "output_type": "stream",
     "text": [
      "INFO:tensorflow:Collective all_reduce IndexedSlices: 1 all_reduces, num_devices =2, group_size = 2, implementation = CommunicationImplementation.NCCL\n",
      "2024-04-12 23:22:12.021158: W tensorflow/core/grappler/optimizers/data/auto_shard.cc:553] The `assert_cardinality` transformation is currently not handled by the auto-shard rewrite and will be removed.\n"
     ]
    },
    {
     "name": "stdout",
     "output_type": "stream",
     "text": [
      "340/340 - 294s - loss: 2.0801 - accuracy: 0.5195 - val_loss: 1.8791 - val_accuracy: 0.5678 - 294s/epoch - 865ms/step\n",
      "Epoch 2/5\n",
      "340/340 - 258s - loss: 1.6976 - accuracy: 0.5928 - val_loss: 1.9291 - val_accuracy: 0.5509 - 258s/epoch - 760ms/step\n",
      "Epoch 3/5\n",
      "340/340 - 257s - loss: 1.4640 - accuracy: 0.6471 - val_loss: 2.1883 - val_accuracy: 0.5461 - 257s/epoch - 756ms/step\n",
      "Epoch 4/5\n",
      "340/340 - 257s - loss: 1.2222 - accuracy: 0.7188 - val_loss: 2.4385 - val_accuracy: 0.5446 - 257s/epoch - 755ms/step\n",
      "Epoch 5/5\n",
      "340/340 - 257s - loss: 1.0441 - accuracy: 0.7748 - val_loss: 2.8052 - val_accuracy: 0.5477 - 257s/epoch - 754ms/step\n"
     ]
    }
   ],
   "source": [
    "with strategy.scope():\n",
    "    history = model.fit(datasets['train'], validation_data=datasets['validation'], \n",
    "                    epochs=EPOCHS, verbose=2, \n",
    "                    callbacks=[model_checkpoint_callback, tensorboard_callback])"
   ]
  },
  {
   "cell_type": "code",
   "execution_count": 63,
   "id": "c04d1bee-b89a-4322-8a81-abb630c60e80",
   "metadata": {},
   "outputs": [],
   "source": [
    "model.save_weights('./DistilBERT/EmotionExtractor')"
   ]
  },
  {
   "cell_type": "markdown",
   "id": "27e2037e-b05e-4c30-ab1e-b2eb9c8ed55f",
   "metadata": {},
   "source": [
    "## Unit Testing: "
   ]
  },
  {
   "cell_type": "code",
   "execution_count": 67,
   "id": "8dbe95cb-c39d-491f-bd1e-71a2022a3200",
   "metadata": {},
   "outputs": [
    {
     "data": {
      "text/plain": [
       "<tensorflow.python.checkpoint.checkpoint.CheckpointLoadStatus at 0x7b8888775090>"
      ]
     },
     "execution_count": 67,
     "metadata": {},
     "output_type": "execute_result"
    }
   ],
   "source": [
    "model.load_weights('./DistilBERT/EmotionExtractor')"
   ]
  },
  {
   "cell_type": "code",
   "execution_count": 68,
   "id": "36299d40-d4dc-4d50-91d7-4bad82307b4b",
   "metadata": {},
   "outputs": [
    {
     "name": "stdout",
     "output_type": "stream",
     "text": [
      "1/1 [==============================] - 3s 3s/step\n"
     ]
    }
   ],
   "source": [
    "output = model.predict([\"Bitter memories from my time in Jerusalem were dragged up.\"])"
   ]
  },
  {
   "cell_type": "code",
   "execution_count": 69,
   "id": "dba529c5-386c-4ac6-a58f-323c012acb17",
   "metadata": {},
   "outputs": [],
   "source": [
    "emotions = ['admiration', 'amusement', 'anger', 'annoyance', 'approval',\n",
    "       'caring', 'confusion', 'curiosity', 'desire', 'disappointment',\n",
    "       'disapproval', 'disgust', 'embarrassment', 'excitement', 'fear',\n",
    "       'gratitude', 'grief', 'joy', 'love', 'nervousness', 'optimism', 'pride',\n",
    "       'realization', 'relief', 'remorse', 'sadness', 'surprise', 'neutral']"
   ]
  },
  {
   "cell_type": "code",
   "execution_count": 70,
   "id": "e4123c9a-e338-45e2-96d0-e77f809771ff",
   "metadata": {},
   "outputs": [
    {
     "data": {
      "text/plain": [
       "'sadness'"
      ]
     },
     "execution_count": 70,
     "metadata": {},
     "output_type": "execute_result"
    }
   ],
   "source": [
    "emotions[np.argmax(output)]"
   ]
  },
  {
   "cell_type": "markdown",
   "id": "eea32f19-de4f-4bcd-88a0-12db2defaa2a",
   "metadata": {},
   "source": [
    "## Further Hypertuning and Optimization: "
   ]
  },
  {
   "cell_type": "code",
   "execution_count": null,
   "id": "30b79707-8d3c-4c83-81e5-8f01bb256d85",
   "metadata": {},
   "outputs": [],
   "source": [
    "with strategy.scope():\n",
    "    preprocessor = keras_nlp.models.DistilBertPreprocessor.from_preset(\n",
    "        \"distil_bert_base_en_uncased\",\n",
    "        sequence_length=256,\n",
    "    )\n",
    "    encoder = keras_nlp.models.DistilBertBackbone.from_preset(\n",
    "        \"distil_bert_base_en_uncased\"\n",
    "    )\n",
    "    encoder.trainable = True"
   ]
  },
  {
   "cell_type": "code",
   "execution_count": null,
   "id": "a3e22354-6b91-4506-9527-86f5966f1e6e",
   "metadata": {},
   "outputs": [],
   "source": [
    "with strategy.scope():\n",
    "    txt = tf.keras.layers.Input(shape=(), dtype=tf.string)\n",
    "    x = preprocessor(txt)\n",
    "    x = encoder(x)\n",
    "    x = tf.keras.layers.GlobalAveragePooling1D()(x)\n",
    "    x = tf.keras.layers.Dropout(0.1)(x)\n",
    "    x = tf.keras.layers.Dense(1024, activation='relu')\n",
    "    x = tf.keras.layers.Dense(28, activation='softmax')(x)\n",
    "    model = tf.keras.Model(inputs=[txt], outputs=x)"
   ]
  },
  {
   "cell_type": "code",
   "execution_count": null,
   "id": "b2e5eaea-4eb5-4e37-895e-13ff6d8e1bb3",
   "metadata": {},
   "outputs": [],
   "source": [
    "with strategy.scope():\n",
    "    optimizer = tf.keras.optimizers.Adam(learning_rate=1e-4)\n",
    "    metrics = [tf.keras.metrics.CategoricalAccuracy('accuracy', dtype=tf.float32)]\n",
    "    loss = tf.keras.losses.CategoricalCrossentropy(from_logits=False)\n",
    "    model.compile(optimizer, loss, metrics=metrics)"
   ]
  },
  {
   "cell_type": "code",
   "execution_count": null,
   "id": "4d1237b3-f7b6-42d7-acaa-361fe2cac97a",
   "metadata": {},
   "outputs": [],
   "source": []
  }
 ],
 "metadata": {
  "kernelspec": {
   "display_name": "Python 3 (ipykernel)",
   "language": "python",
   "name": "python3"
  },
  "language_info": {
   "codemirror_mode": {
    "name": "ipython",
    "version": 3
   },
   "file_extension": ".py",
   "mimetype": "text/x-python",
   "name": "python",
   "nbconvert_exporter": "python",
   "pygments_lexer": "ipython3",
   "version": "3.10.12"
  }
 },
 "nbformat": 4,
 "nbformat_minor": 5
}
